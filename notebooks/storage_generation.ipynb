{
 "cells": [
  {
   "cell_type": "markdown",
   "metadata": {},
   "source": [
    "# Storage generation\n",
    "\n",
    "Through this notebook, the vector store for each model will be generated and stored in the `storage` folder under the name of the model. \n",
    "Please note that this was developed thinking of only 2 models (Llama 2 and Mistral). This means that the `messages_to_prompt` function might need to be changed if you want to use it with other models.\n"
   ]
  },
  {
   "cell_type": "code",
   "execution_count": null,
   "metadata": {},
   "outputs": [],
   "source": [
    "import os\n",
    "import warnings\n",
    "import pickle\n",
    "from llama_index import (\n",
    "    ServiceContext,\n",
    "    SimpleDirectoryReader, \n",
    "    VectorStoreIndex,\n",
    "    StorageContext,\n",
    "    load_index_from_storage,\n",
    ")\n",
    "from llama_index.embeddings import HuggingFaceEmbedding\n",
    "from llama_index.llms import LlamaCPP\n",
    "from llama_index.llms.llama_utils import (\n",
    "    messages_to_prompt,\n",
    "    completion_to_prompt,\n",
    ")"
   ]
  },
  {
   "cell_type": "code",
   "execution_count": null,
   "metadata": {},
   "outputs": [],
   "source": [
    "warnings.filterwarnings(\"ignore\")\n",
    "# Get the path to the parent directory\n",
    "parent_dir = os.path.dirname(os.getcwd())"
   ]
  },
  {
   "cell_type": "markdown",
   "metadata": {},
   "source": [
    "## Loading Documents"
   ]
  },
  {
   "cell_type": "code",
   "execution_count": null,
   "metadata": {},
   "outputs": [],
   "source": [
    "# data_path = os.path.join(parent_dir, 'data')\n",
    "\n",
    "# # Data ingestion\n",
    "# documents = SimpleDirectoryReader(data_path).load_data()"
   ]
  },
  {
   "cell_type": "code",
   "execution_count": null,
   "metadata": {},
   "outputs": [],
   "source": [
    "# # Storing documents as a list to avoid loading them again\n",
    "# with open('../storage/documents/documents.pickle', 'wb') as f:\n",
    "#     pickle.dump(documents, f)"
   ]
  },
  {
   "cell_type": "code",
   "execution_count": null,
   "metadata": {},
   "outputs": [],
   "source": [
    "# Opening the stored documents\n",
    "with open('../storage/documents/documents.pickle', 'rb') as f:\n",
    "    documents = pickle.load(f)"
   ]
  },
  {
   "cell_type": "markdown",
   "metadata": {},
   "source": [
    "## Selecting a model to generate storage\n",
    "This could be combined with a for loop, but to avoid memory issues, we run it separately for now."
   ]
  },
  {
   "cell_type": "code",
   "execution_count": null,
   "metadata": {},
   "outputs": [],
   "source": [
    "# Construct the path to the models directory\n",
    "models_path = os.path.join(parent_dir, 'models')\n",
    "models = [f for f in os.listdir(models_path) if os.path.isfile(os.path.join(models_path, f))]\n",
    "try:\n",
    "    # remove .gitignore by specifying the name\n",
    "    models.remove(\".gitignore\")\n",
    "except:\n",
    "    pass\n",
    "\n",
    "try:\n",
    "    # remove anything ending with Zone.Identifier\n",
    "    models = [m for m in models if not m.endswith(\"Zone.Identifier\")]\n",
    "except:\n",
    "    pass\n",
    "# From every entry, remove everything after the first dot\n",
    "print(\"Available models:\")\n",
    "for i, m in enumerate(models):\n",
    "    print(f\"{i}: {m.split('.')[0]}\")"
   ]
  },
  {
   "cell_type": "code",
   "execution_count": null,
   "metadata": {},
   "outputs": [],
   "source": [
    "# Select a model. The user can only input a number between 0 and len(models)-1, if he inputs something else, the program will ask again\n",
    "while True:\n",
    "    try:\n",
    "        model_index = int(input(\"Select a model: \"))\n",
    "        if model_index >= 0 and model_index < len(models):\n",
    "            break\n",
    "        else:\n",
    "            print(\"Invalid input. Please enter a number between 0 and \" + str(len(models)-1) + \" according to the selection shown above.\")\n",
    "    except ValueError:\n",
    "        print(\"Invalid input. Please enter a number between 0 and \" + str(len(models)-1) + \" according to the selection shown above.\")\n",
    "\n",
    "# Get path to the selected model\n",
    "model_path = os.path.join(models_path, models[model_index])\n",
    "model_tag = models[model_index].split('-')[0]"
   ]
  },
  {
   "cell_type": "code",
   "execution_count": null,
   "metadata": {},
   "outputs": [],
   "source": [
    "if not models[model_index].startswith(\"llama\"):\n",
    "        # The following prompt works well with Mistral\n",
    "        def messages_to_prompt(messages):\n",
    "                prompt = \"\"\n",
    "                for message in messages:\n",
    "                        if message.role == 'system':\n",
    "                                prompt += f\"<|system|>\\n{message.content}</s>\\n\"\n",
    "                        elif message.role == 'user':\n",
    "                                prompt += f\"<|user|>\\n{message.content}</s>\\n\"\n",
    "                        elif message.role == 'assistant':\n",
    "                                prompt += f\"<|assistant|>\\n{message.content}</s>\\n\"\n",
    "\n",
    "                        # ensure we start with a system prompt, insert blank if needed\n",
    "                        if not prompt.startswith(\"<|system|>\\n\"):\n",
    "                                prompt = \"<|system|>\\n</s>\\n\" + prompt\n",
    "\n",
    "                        # add final assistant prompt\n",
    "                        prompt = prompt + \"<|assistant|>\\n\"\n",
    "\n",
    "                return prompt\n",
    "\n",
    "llm = LlamaCPP(\n",
    "        # You can pass in the URL to a GGML model to download it automatically\n",
    "        # model_url=model_url,\n",
    "        # optionally, you can set the path to a pre-downloaded model instead of model_url\n",
    "        model_path=model_path,\n",
    "        temperature=0.2,\n",
    "        max_new_tokens=1000,\n",
    "        # llama2 has a context window of 4096 tokens, but we set it lower to allow for some wiggle room\n",
    "        context_window=3900,\n",
    "        # kwargs to pass to __call__()\n",
    "        generate_kwargs={},\n",
    "        # kwargs to pass to __init__()\n",
    "        # set to at least 1 to use GPU\n",
    "        model_kwargs={\"n_gpu_layers\": -1},\n",
    "        # transform inputs into Llama2 format\n",
    "        messages_to_prompt=messages_to_prompt,\n",
    "        completion_to_prompt=completion_to_prompt,\n",
    "        verbose=True,\n",
    ")"
   ]
  },
  {
   "cell_type": "markdown",
   "metadata": {},
   "source": [
    "## Selecting Embeddings model\n",
    "Currently model name needs to be changed manually."
   ]
  },
  {
   "cell_type": "code",
   "execution_count": null,
   "metadata": {},
   "outputs": [],
   "source": [
    "embedding = \"EuropeanParliament/eubert_embedding_v1\"   # BAAI/bge-base-en-v1.5   BAAI/bge-large-en-v1.5\n",
    "embedding_tag = embedding.split('/')[1]\n",
    "embed_model = HuggingFaceEmbedding(embedding, max_length=512)"
   ]
  },
  {
   "cell_type": "code",
   "execution_count": null,
   "metadata": {},
   "outputs": [],
   "source": [
    "service_context = ServiceContext.from_defaults(\n",
    "    llm=llm, \n",
    "    embed_model= embed_model,\n",
    "    # \"local:EuropeanParliament/eubert_embedding_v1\",    \n",
    "    chunk_size=512,\n",
    "    chunk_overlap=125,\n",
    ")"
   ]
  },
  {
   "cell_type": "code",
   "execution_count": null,
   "metadata": {},
   "outputs": [],
   "source": [
    "vector_index = VectorStoreIndex.from_documents(documents, service_context=service_context, show_progress=True)"
   ]
  },
  {
   "cell_type": "code",
   "execution_count": null,
   "metadata": {},
   "outputs": [],
   "source": [
    "vector_index.storage_context.persist(persist_dir=f\"../storage/{embedding_tag}\")"
   ]
  },
  {
   "cell_type": "markdown",
   "metadata": {},
   "source": [
    "## Loading index\n",
    "Uncomment the following cell if you want to load an index from a previous run and test the storage loading."
   ]
  },
  {
   "cell_type": "code",
   "execution_count": null,
   "metadata": {},
   "outputs": [],
   "source": [
    "# # rebuild storage context\n",
    "# storage_context = StorageContext.from_defaults(persist_dir=f\"storage/{model_tag}/vector_storage\")\n",
    "\n",
    "# # load index\n",
    "# vector_index = load_index_from_storage(storage_context, service_context= service_context)"
   ]
  }
 ],
 "metadata": {
  "kernelspec": {
   "display_name": ".venv",
   "language": "python",
   "name": "python3"
  },
  "language_info": {
   "codemirror_mode": {
    "name": "ipython",
    "version": 3
   },
   "file_extension": ".py",
   "mimetype": "text/x-python",
   "name": "python",
   "nbconvert_exporter": "python",
   "pygments_lexer": "ipython3",
   "version": "3.10.12"
  }
 },
 "nbformat": 4,
 "nbformat_minor": 2
}
