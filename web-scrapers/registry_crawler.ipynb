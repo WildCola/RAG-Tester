{
 "cells": [
  {
   "cell_type": "code",
   "execution_count": 2,
   "metadata": {},
   "outputs": [],
   "source": [
    "from selenium import webdriver\n",
    "from selenium.webdriver.common.by import By\n",
    "from selenium.webdriver.support.ui import WebDriverWait\n",
    "from selenium.webdriver.support import expected_conditions as EC\n",
    "from selenium.common.exceptions import TimeoutException, NoSuchElementException\n",
    "import requests\n",
    "from PyPDF2 import PdfReader\n",
    "from io import BytesIO\n",
    "from fpdf import FPDF "
   ]
  },
  {
   "cell_type": "markdown",
   "metadata": {},
   "source": [
    "## Quaestors minutes"
   ]
  },
  {
   "cell_type": "code",
   "execution_count": null,
   "metadata": {},
   "outputs": [],
   "source": [
    "def download_pdf(url, save_path):\n",
    "    # Send a GET request to the URL\n",
    "    response = requests.get(url)\n",
    "    \n",
    "    # Check if the request was successful\n",
    "    if response.status_code == 200:\n",
    "        # Open a local file with write-binary mode\n",
    "        with open(save_path, 'wb') as file:\n",
    "            # Write the content of the response (PDF file) to the file\n",
    "            file.write(response.content)\n",
    "        print(f\"PDF downloaded successfully and saved to {save_path}\")\n",
    "    else:\n",
    "        print(f\"Failed to download PDF. Status code: {response.status_code}\")\n",
    "\n",
    "for year in range(1994, 2025):\n",
    "    year_str = str(year)\n",
    "    for month in range(1, 13):\n",
    "        month_str = str(month)\n",
    "        if month < 10:\n",
    "            month_str = '0' + month_str\n",
    "        for day in range(1, 32):\n",
    "            day_str = str(day)\n",
    "            if day < 10:\n",
    "                day_str = '0' + day_str\n",
    "            pdf_url = f'https://www.europarl.europa.eu/RegData/organes/conf_pres_groupes/proces_verbal/{year_str}/{month_str}-{day_str}/CPG_PV({year_str}){month_str}-{day_str}_EN.pdf'\n",
    "            save_path = f'conference of presidents/conference_presidents-{year_str}-{month_str}-{day_str}.pdf'\n",
    "            download_pdf(pdf_url, save_path)\n"
   ]
  }
 ],
 "metadata": {
  "kernelspec": {
   "display_name": "Python 3",
   "language": "python",
   "name": "python3"
  },
  "language_info": {
   "codemirror_mode": {
    "name": "ipython",
    "version": 3
   },
   "file_extension": ".py",
   "mimetype": "text/x-python",
   "name": "python",
   "nbconvert_exporter": "python",
   "pygments_lexer": "ipython3",
   "version": "3.10.11"
  }
 },
 "nbformat": 4,
 "nbformat_minor": 2
}
